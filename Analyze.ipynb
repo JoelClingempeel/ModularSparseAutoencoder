{
 "cells": [
  {
   "cell_type": "code",
   "execution_count": 1,
   "metadata": {},
   "outputs": [],
   "source": [
    "import glob\n",
    "import json\n",
    "import matplotlib.pyplot as plt\n",
    "import os\n",
    "import pandas as pd\n",
    "import torch\n",
    "\n",
    "\n",
    "from tensorboard.backend.event_processing.event_accumulator import EventAccumulator"
   ]
  },
  {
   "cell_type": "code",
   "execution_count": 2,
   "metadata": {},
   "outputs": [],
   "source": [
    "ROOT_PATH = 'logs/none/routing'  # Can use shell globbing here.\n",
    "ROWS_TO_DISPLAY = 10"
   ]
  },
  {
   "cell_type": "code",
   "execution_count": 3,
   "metadata": {},
   "outputs": [],
   "source": [
    "def get_varied_parameters():\n",
    "    with open('hyperparameters_config.json') as f:\n",
    "        hyperparameter_config = json.loads(f.read())\n",
    "\n",
    "    return [param for param, vals in hyperparameter_config.items()\n",
    "            if len(vals) > 1]\n",
    "\n",
    "def get_parameter_table(root):\n",
    "    varied_parameters = get_varied_parameters()\n",
    "    param_dict = {'timestamp': []}\n",
    "    for param in varied_parameters:\n",
    "        param_dict[param] = []\n",
    "    \n",
    "    for file in glob.glob(os.path.join(root, '*')):\n",
    "        with open(os.path.join(file, 'experiment_config.json')) as f:\n",
    "            exp_data = json.loads(f.read())\n",
    "\n",
    "        param_dict['timestamp'].append(file.split('/')[-1])\n",
    "        for param, val in exp_data.items():\n",
    "            if param in varied_parameters:\n",
    "                param_dict[param].append(val)\n",
    "                \n",
    "    return pd.DataFrame(param_dict) \n",
    "\n",
    "def get_activations(path):\n",
    "    with open(os.path.join(path, 'average_activations.json')) as f:\n",
    "        data = json.loads(f.read())\n",
    "    return data\n",
    "\n",
    "def get_activation_similarities(path, stripewise=True):\n",
    "    avg_activations = torch.tensor(get_activations(path))\n",
    "    if stripewise:\n",
    "        avg_activations = avg_activations.mean(2)\n",
    "    return [[torch.norm(avg_activations[i] - avg_activations[j]).item()\n",
    "             for j in range(10)]\n",
    "            for i in range(10)]\n",
    "\n",
    "def get_topk_most_diverse(root, stripewise=True):\n",
    "    pairs = []\n",
    "    for timestamp in table['timestamp']:\n",
    "        path = os.path.join(root, timestamp)\n",
    "        score = torch.norm(torch.tensor(get_activation_similarities(path, stripewise=stripewise)))\n",
    "        pairs.append([score.item(), path])\n",
    "    pairs.sort()\n",
    "    return pairs\n",
    "\n",
    "table = get_parameter_table(ROOT_PATH)\n",
    "table['overall_diversity'] = [score for score, _ in get_topk_most_diverse(ROOT_PATH)]\n",
    "table['stripewise_diversity'] = [score for score, _ in get_topk_most_diverse(ROOT_PATH, stripewise=True)]"
   ]
  },
  {
   "cell_type": "markdown",
   "metadata": {},
   "source": [
    "# Basic Results"
   ]
  },
  {
   "cell_type": "markdown",
   "metadata": {},
   "source": [
    "### Static Parameters"
   ]
  },
  {
   "cell_type": "code",
   "execution_count": 4,
   "metadata": {},
   "outputs": [
    {
     "name": "stdout",
     "output_type": "stream",
     "text": [
      "intermediate_dim               250                 \n",
      "num_stripes                    30                  \n",
      "layer_sparsity_mode            none                \n",
      "stripe_sparsity_mode           routing             \n",
      "alpha                          0.8                 \n",
      "beta                           1.2                 \n",
      "routing_l1_regularization      0.0                 \n",
      "log_average_routing_scores     True                \n",
      "active_stripes_per_batch       1.0                 \n",
      "lr                             0.01                \n",
      "momentum                       0.9                 \n",
      "num_epochs                     12                  \n",
      "batch_size                     8                   \n",
      "data_path                      data.csv            \n",
      "log_path                       logs                \n",
      "log_class_specific_losses      False               \n",
      "log_average_activations        True                \n",
      "log_experiment_flags           True                \n",
      "use_cuda_if_available          True                \n"
     ]
    }
   ],
   "source": [
    "def get_static_parameters():\n",
    "    with open('hyperparameters_config.json') as f:\n",
    "        hyperparameter_config = json.loads(f.read())\n",
    "\n",
    "    static_config = {}\n",
    "    for param, vals in hyperparameter_config.items():\n",
    "        if len(vals) == 1:\n",
    "            print('{:30} {:20}'.format(param, str(vals[0])))\n",
    "\n",
    "get_static_parameters()"
   ]
  },
  {
   "cell_type": "markdown",
   "metadata": {},
   "source": [
    "### Experiments with Highest Overall Diversity"
   ]
  },
  {
   "cell_type": "code",
   "execution_count": 5,
   "metadata": {},
   "outputs": [
    {
     "data": {
      "text/html": [
       "<div>\n",
       "<style scoped>\n",
       "    .dataframe tbody tr th:only-of-type {\n",
       "        vertical-align: middle;\n",
       "    }\n",
       "\n",
       "    .dataframe tbody tr th {\n",
       "        vertical-align: top;\n",
       "    }\n",
       "\n",
       "    .dataframe thead th {\n",
       "        text-align: right;\n",
       "    }\n",
       "</style>\n",
       "<table border=\"1\" class=\"dataframe\">\n",
       "  <thead>\n",
       "    <tr style=\"text-align: right;\">\n",
       "      <th></th>\n",
       "      <th>timestamp</th>\n",
       "      <th>stripe_dim</th>\n",
       "      <th>num_active_neurons</th>\n",
       "      <th>num_active_stripes</th>\n",
       "      <th>overall_diversity</th>\n",
       "      <th>stripewise_diversity</th>\n",
       "    </tr>\n",
       "  </thead>\n",
       "  <tbody>\n",
       "    <tr>\n",
       "      <td>0</td>\n",
       "      <td>2020-12-01_23:01:17.263408</td>\n",
       "      <td>1</td>\n",
       "      <td>15</td>\n",
       "      <td>6</td>\n",
       "      <td>17.186766</td>\n",
       "      <td>17.186766</td>\n",
       "    </tr>\n",
       "    <tr>\n",
       "      <td>1</td>\n",
       "      <td>2020-12-02_03:29:20.451154</td>\n",
       "      <td>6</td>\n",
       "      <td>30</td>\n",
       "      <td>9</td>\n",
       "      <td>19.235851</td>\n",
       "      <td>19.235851</td>\n",
       "    </tr>\n",
       "    <tr>\n",
       "      <td>2</td>\n",
       "      <td>2020-12-02_21:57:29.834147</td>\n",
       "      <td>12</td>\n",
       "      <td>45</td>\n",
       "      <td>9</td>\n",
       "      <td>19.526506</td>\n",
       "      <td>19.526506</td>\n",
       "    </tr>\n",
       "    <tr>\n",
       "      <td>3</td>\n",
       "      <td>2020-12-02_21:29:57.611306</td>\n",
       "      <td>12</td>\n",
       "      <td>45</td>\n",
       "      <td>3</td>\n",
       "      <td>19.650642</td>\n",
       "      <td>19.650642</td>\n",
       "    </tr>\n",
       "    <tr>\n",
       "      <td>4</td>\n",
       "      <td>2020-12-02_19:03:21.929828</td>\n",
       "      <td>9</td>\n",
       "      <td>30</td>\n",
       "      <td>6</td>\n",
       "      <td>19.960827</td>\n",
       "      <td>19.960827</td>\n",
       "    </tr>\n",
       "    <tr>\n",
       "      <td>5</td>\n",
       "      <td>2020-12-02_20:35:51.874635</td>\n",
       "      <td>12</td>\n",
       "      <td>15</td>\n",
       "      <td>9</td>\n",
       "      <td>20.313122</td>\n",
       "      <td>20.313122</td>\n",
       "    </tr>\n",
       "    <tr>\n",
       "      <td>6</td>\n",
       "      <td>2020-12-02_01:13:06.506628</td>\n",
       "      <td>3</td>\n",
       "      <td>30</td>\n",
       "      <td>3</td>\n",
       "      <td>20.746178</td>\n",
       "      <td>20.746178</td>\n",
       "    </tr>\n",
       "    <tr>\n",
       "      <td>7</td>\n",
       "      <td>2020-12-02_21:43:44.240443</td>\n",
       "      <td>12</td>\n",
       "      <td>45</td>\n",
       "      <td>6</td>\n",
       "      <td>21.101181</td>\n",
       "      <td>21.101181</td>\n",
       "    </tr>\n",
       "    <tr>\n",
       "      <td>8</td>\n",
       "      <td>2020-12-02_02:38:39.773089</td>\n",
       "      <td>6</td>\n",
       "      <td>15</td>\n",
       "      <td>6</td>\n",
       "      <td>21.865461</td>\n",
       "      <td>21.865461</td>\n",
       "    </tr>\n",
       "    <tr>\n",
       "      <td>9</td>\n",
       "      <td>2020-12-02_00:02:45.731087</td>\n",
       "      <td>1</td>\n",
       "      <td>45</td>\n",
       "      <td>3</td>\n",
       "      <td>21.881413</td>\n",
       "      <td>21.881413</td>\n",
       "    </tr>\n",
       "  </tbody>\n",
       "</table>\n",
       "</div>"
      ],
      "text/plain": [
       "                    timestamp  stripe_dim  num_active_neurons  \\\n",
       "0  2020-12-01_23:01:17.263408           1                  15   \n",
       "1  2020-12-02_03:29:20.451154           6                  30   \n",
       "2  2020-12-02_21:57:29.834147          12                  45   \n",
       "3  2020-12-02_21:29:57.611306          12                  45   \n",
       "4  2020-12-02_19:03:21.929828           9                  30   \n",
       "5  2020-12-02_20:35:51.874635          12                  15   \n",
       "6  2020-12-02_01:13:06.506628           3                  30   \n",
       "7  2020-12-02_21:43:44.240443          12                  45   \n",
       "8  2020-12-02_02:38:39.773089           6                  15   \n",
       "9  2020-12-02_00:02:45.731087           1                  45   \n",
       "\n",
       "   num_active_stripes  overall_diversity  stripewise_diversity  \n",
       "0                   6          17.186766             17.186766  \n",
       "1                   9          19.235851             19.235851  \n",
       "2                   9          19.526506             19.526506  \n",
       "3                   3          19.650642             19.650642  \n",
       "4                   6          19.960827             19.960827  \n",
       "5                   9          20.313122             20.313122  \n",
       "6                   3          20.746178             20.746178  \n",
       "7                   6          21.101181             21.101181  \n",
       "8                   6          21.865461             21.865461  \n",
       "9                   3          21.881413             21.881413  "
      ]
     },
     "execution_count": 5,
     "metadata": {},
     "output_type": "execute_result"
    }
   ],
   "source": [
    "table.sort_values('overall_diversity')\n",
    "table.head(ROWS_TO_DISPLAY)"
   ]
  },
  {
   "cell_type": "markdown",
   "metadata": {},
   "source": [
    "### Experiments with Highest Stripewise Diversity"
   ]
  },
  {
   "cell_type": "code",
   "execution_count": 6,
   "metadata": {},
   "outputs": [
    {
     "data": {
      "text/html": [
       "<div>\n",
       "<style scoped>\n",
       "    .dataframe tbody tr th:only-of-type {\n",
       "        vertical-align: middle;\n",
       "    }\n",
       "\n",
       "    .dataframe tbody tr th {\n",
       "        vertical-align: top;\n",
       "    }\n",
       "\n",
       "    .dataframe thead th {\n",
       "        text-align: right;\n",
       "    }\n",
       "</style>\n",
       "<table border=\"1\" class=\"dataframe\">\n",
       "  <thead>\n",
       "    <tr style=\"text-align: right;\">\n",
       "      <th></th>\n",
       "      <th>timestamp</th>\n",
       "      <th>stripe_dim</th>\n",
       "      <th>num_active_neurons</th>\n",
       "      <th>num_active_stripes</th>\n",
       "      <th>overall_diversity</th>\n",
       "      <th>stripewise_diversity</th>\n",
       "    </tr>\n",
       "  </thead>\n",
       "  <tbody>\n",
       "    <tr>\n",
       "      <td>0</td>\n",
       "      <td>2020-12-01_23:01:17.263408</td>\n",
       "      <td>1</td>\n",
       "      <td>15</td>\n",
       "      <td>6</td>\n",
       "      <td>17.186766</td>\n",
       "      <td>17.186766</td>\n",
       "    </tr>\n",
       "    <tr>\n",
       "      <td>1</td>\n",
       "      <td>2020-12-02_03:29:20.451154</td>\n",
       "      <td>6</td>\n",
       "      <td>30</td>\n",
       "      <td>9</td>\n",
       "      <td>19.235851</td>\n",
       "      <td>19.235851</td>\n",
       "    </tr>\n",
       "    <tr>\n",
       "      <td>2</td>\n",
       "      <td>2020-12-02_21:57:29.834147</td>\n",
       "      <td>12</td>\n",
       "      <td>45</td>\n",
       "      <td>9</td>\n",
       "      <td>19.526506</td>\n",
       "      <td>19.526506</td>\n",
       "    </tr>\n",
       "    <tr>\n",
       "      <td>3</td>\n",
       "      <td>2020-12-02_21:29:57.611306</td>\n",
       "      <td>12</td>\n",
       "      <td>45</td>\n",
       "      <td>3</td>\n",
       "      <td>19.650642</td>\n",
       "      <td>19.650642</td>\n",
       "    </tr>\n",
       "    <tr>\n",
       "      <td>4</td>\n",
       "      <td>2020-12-02_19:03:21.929828</td>\n",
       "      <td>9</td>\n",
       "      <td>30</td>\n",
       "      <td>6</td>\n",
       "      <td>19.960827</td>\n",
       "      <td>19.960827</td>\n",
       "    </tr>\n",
       "    <tr>\n",
       "      <td>5</td>\n",
       "      <td>2020-12-02_20:35:51.874635</td>\n",
       "      <td>12</td>\n",
       "      <td>15</td>\n",
       "      <td>9</td>\n",
       "      <td>20.313122</td>\n",
       "      <td>20.313122</td>\n",
       "    </tr>\n",
       "    <tr>\n",
       "      <td>6</td>\n",
       "      <td>2020-12-02_01:13:06.506628</td>\n",
       "      <td>3</td>\n",
       "      <td>30</td>\n",
       "      <td>3</td>\n",
       "      <td>20.746178</td>\n",
       "      <td>20.746178</td>\n",
       "    </tr>\n",
       "    <tr>\n",
       "      <td>7</td>\n",
       "      <td>2020-12-02_21:43:44.240443</td>\n",
       "      <td>12</td>\n",
       "      <td>45</td>\n",
       "      <td>6</td>\n",
       "      <td>21.101181</td>\n",
       "      <td>21.101181</td>\n",
       "    </tr>\n",
       "    <tr>\n",
       "      <td>8</td>\n",
       "      <td>2020-12-02_02:38:39.773089</td>\n",
       "      <td>6</td>\n",
       "      <td>15</td>\n",
       "      <td>6</td>\n",
       "      <td>21.865461</td>\n",
       "      <td>21.865461</td>\n",
       "    </tr>\n",
       "    <tr>\n",
       "      <td>9</td>\n",
       "      <td>2020-12-02_00:02:45.731087</td>\n",
       "      <td>1</td>\n",
       "      <td>45</td>\n",
       "      <td>3</td>\n",
       "      <td>21.881413</td>\n",
       "      <td>21.881413</td>\n",
       "    </tr>\n",
       "  </tbody>\n",
       "</table>\n",
       "</div>"
      ],
      "text/plain": [
       "                    timestamp  stripe_dim  num_active_neurons  \\\n",
       "0  2020-12-01_23:01:17.263408           1                  15   \n",
       "1  2020-12-02_03:29:20.451154           6                  30   \n",
       "2  2020-12-02_21:57:29.834147          12                  45   \n",
       "3  2020-12-02_21:29:57.611306          12                  45   \n",
       "4  2020-12-02_19:03:21.929828           9                  30   \n",
       "5  2020-12-02_20:35:51.874635          12                  15   \n",
       "6  2020-12-02_01:13:06.506628           3                  30   \n",
       "7  2020-12-02_21:43:44.240443          12                  45   \n",
       "8  2020-12-02_02:38:39.773089           6                  15   \n",
       "9  2020-12-02_00:02:45.731087           1                  45   \n",
       "\n",
       "   num_active_stripes  overall_diversity  stripewise_diversity  \n",
       "0                   6          17.186766             17.186766  \n",
       "1                   9          19.235851             19.235851  \n",
       "2                   9          19.526506             19.526506  \n",
       "3                   3          19.650642             19.650642  \n",
       "4                   6          19.960827             19.960827  \n",
       "5                   9          20.313122             20.313122  \n",
       "6                   3          20.746178             20.746178  \n",
       "7                   6          21.101181             21.101181  \n",
       "8                   6          21.865461             21.865461  \n",
       "9                   3          21.881413             21.881413  "
      ]
     },
     "execution_count": 6,
     "metadata": {},
     "output_type": "execute_result"
    }
   ],
   "source": [
    "table.sort_values('stripewise_diversity')\n",
    "table.head(ROWS_TO_DISPLAY)"
   ]
  },
  {
   "cell_type": "markdown",
   "metadata": {},
   "source": [
    "# Visualizing Activations"
   ]
  },
  {
   "cell_type": "code",
   "execution_count": 7,
   "metadata": {},
   "outputs": [],
   "source": [
    "TIMESTAMP = '2020-12-02_03:29:20.451154'"
   ]
  },
  {
   "cell_type": "code",
   "execution_count": 8,
   "metadata": {},
   "outputs": [],
   "source": [
    "avg_activations = torch.tensor(get_activations(os.path.join(ROOT_PATH, TIMESTAMP)))\n",
    "activations_grid = avg_activations.reshape(10, -1)\n",
    "stripe_activations_grid = avg_activations.mean(2)"
   ]
  },
  {
   "cell_type": "markdown",
   "metadata": {},
   "source": [
    "### Overall Average Activations"
   ]
  },
  {
   "cell_type": "code",
   "execution_count": 12,
   "metadata": {},
   "outputs": [
    {
     "data": {
      "text/plain": [
       "<matplotlib.image.AxesImage at 0x128cd3f10>"
      ]
     },
     "execution_count": 12,
     "metadata": {},
     "output_type": "execute_result"
    },
    {
     "data": {
      "image/png": "[encoded data removed]",
      "text/plain": [
       "<Figure size 432x288 with 1 Axes>"
      ]
     },
     "metadata": {
      "needs_background": "light"
     },
     "output_type": "display_data"
    }
   ],
   "source": [
    "plt.imshow(activations_grid, cmap='gray_r')"
   ]
  },
  {
   "cell_type": "markdown",
   "metadata": {},
   "source": [
    "### Stripe Average Activations"
   ]
  },
  {
   "cell_type": "code",
   "execution_count": 22,
   "metadata": {},
   "outputs": [
    {
     "data": {
      "text/plain": [
       "<matplotlib.image.AxesImage at 0x128f8b9d0>"
      ]
     },
     "execution_count": 22,
     "metadata": {},
     "output_type": "execute_result"
    },
    {
     "data": {
      "image/png": "[encoded data removed]",
      "text/plain": [
       "<Figure size 432x288 with 1 Axes>"
      ]
     },
     "metadata": {
      "needs_background": "light"
     },
     "output_type": "display_data"
    }
   ],
   "source": [
    "plt.imshow(stripe_activations_grid, cmap='gray_r')"
   ]
  },
  {
   "cell_type": "code",
   "execution_count": null,
   "metadata": {},
   "outputs": [],
   "source": []
  }
 ],
 "metadata": {
  "kernelspec": {
   "display_name": "Python 3",
   "language": "python",
   "name": "python3"
  },
  "language_info": {
   "codemirror_mode": {
    "name": "ipython",
    "version": 3
   },
   "file_extension": ".py",
   "mimetype": "text/x-python",
   "name": "python",
   "nbconvert_exporter": "python",
   "pygments_lexer": "ipython3",
   "version": "3.7.6"
  }
 },
 "nbformat": 4,
 "nbformat_minor": 2
}
